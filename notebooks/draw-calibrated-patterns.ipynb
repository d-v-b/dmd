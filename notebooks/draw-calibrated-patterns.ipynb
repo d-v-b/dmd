{
 "cells": [
  {
   "cell_type": "code",
   "execution_count": 17,
   "metadata": {
    "collapsed": true
   },
   "outputs": [],
   "source": [
    "import matplotlib\n",
    "matplotlib.use('Qt5Agg')\n",
    "from matplotlib import pyplot as plt\n",
    "from matplotlib.widgets import Button\n",
    "import numpy as np\n",
    "from skimage.io import imread\n",
    "import json\n",
    "import sys\n",
    "sys.path.append(r'C:\\Users\\AhrensLab\\Documents\\GitHub\\dmd')\n",
    "from dmd.gui import DraggableRectangle, RoiDrawing\n",
    "plt.ion()"
   ]
  },
  {
   "cell_type": "code",
   "execution_count": 27,
   "metadata": {
    "collapsed": true
   },
   "outputs": [],
   "source": [
    "calibration_data_fname = r'C:\\Users\\Ahrenslab\\Documents\\Github\\dmd\\dmd_calibration.json'\n",
    "calibration_image_fname = r'Z:/davis/data/dmd_calibration/20170531/checkerboard.png'\n",
    "calibration_image = imread(calibration_image_fname)"
   ]
  },
  {
   "cell_type": "code",
   "execution_count": 36,
   "metadata": {
    "scrolled": false
   },
   "outputs": [],
   "source": [
    "from matplotlib.patches import Rectangle\n",
    "fig, axs = plt.subplots(figsize=(8,8))\n",
    "axs.imshow(calibration_image, origin='lower')\n",
    "\n",
    "# Empirically, this is a pretty good guess, in case we can't load the calibration data file\n",
    "# x_guess, y_guess, w_guess, h_guess = 230, 588, 1600, 874\n",
    "\n",
    "with open(calibration_data_fname, 'r') as infile:\n",
    "    calibration_data = json.load(infile)\n",
    "\n",
    "x_guess, y_guess, w_guess, h_guess = calibration_data['dmd_rect']\n",
    "w_guess -= x_guess\n",
    "h_guess -= y_guess\n",
    "rect = Rectangle((x_guess,y_guess), w_guess, h_guess, fill=False)\n",
    "axs.add_patch(rect)\n",
    "dr = DraggableRectangle(rect)\n",
    "dr.connect()\n",
    "plt.show()"
   ]
  },
  {
   "cell_type": "code",
   "execution_count": 35,
   "metadata": {},
   "outputs": [
    {
     "name": "stdout",
     "output_type": "stream",
     "text": [
      "220.0 578.0 1614.99902353 894.0\n"
     ]
    }
   ],
   "source": [
    "x, y, w, h = dr.rect.get_x(), dr.rect.get_y(), dr.rect.get_width(), dr.rect.get_height()\n",
    "dmd_rect = [int(x), int(y), int(x + w), int(h + y)]\n",
    "calibration_data = {'dmd_rect' : dmd_rect}\n",
    "with open(calibration_data_fname, 'w') as outfile:\n",
    "    json.dump(calibration_data, outfile)\n",
    "\n",
    "print(x,y,w,h)"
   ]
  },
  {
   "cell_type": "code",
   "execution_count": 5,
   "metadata": {},
   "outputs": [],
   "source": [
    "sample_image_fname = r'Z:/davis/data/dmd_calibration/20170529/fish1.png'\n",
    "sample_image = imread(sample_image_fname)\n",
    "\n",
    "data = sample_image[dmd_rect[1]:dmd_rect[3],dmd_rect[0]:dmd_rect[2]]\n",
    "\n",
    "fig = plt.figure()\n",
    "ax = plt.axes([.05, .05, .6, .6])\n",
    "ax.set_title('Draw ROI')\n",
    "ax.imshow(data, cmap='gray')\n",
    "#\n",
    "roi_draw = RoiDrawing(ax, data)\n",
    "\n",
    "ax_butt = plt.axes([0.7, 0.05, 0.1, 0.075])\n",
    "wipe_butt = Button(ax_butt, 'Wipe')\n",
    "wipe_butt.on_clicked(roi_draw.wipe)\n",
    "\n",
    "ax_decr = plt.axes([.7, .15, .1, .075])\n",
    "decr_button = Button(ax_decr, 'Prev ROI')\n",
    "decr_button.on_clicked(roi_draw.focus_decr)\n",
    "\n",
    "ax_incr = plt.axes([.7, .25, .1, .075])\n",
    "incr_button = Button(ax_incr, 'Next ROI')\n",
    "incr_button.on_clicked(roi_draw.focus_incr)\n",
    "plt.show()"
   ]
  },
  {
   "cell_type": "code",
   "execution_count": 6,
   "metadata": {},
   "outputs": [],
   "source": [
    "fig, axs = plt.subplots()\n",
    "masks = np.array([r.get_mask() for r in roi_draw.rois if len(r.x) > 0])\n",
    "plt.imshow(masks.sum(0), cmap='gray')\n",
    "plt.show()"
   ]
  },
  {
   "cell_type": "code",
   "execution_count": 12,
   "metadata": {},
   "outputs": [],
   "source": [
    "# Apply transformations to ROI images and save to disk\n",
    "from skimage.transform import resize\n",
    "dmd_dims = (684,608)\n",
    "masks_resized = np.array([resize(m, output_shape = dmd_dims, mode='constant', cval=0) for m in masks])\n",
    "# need to flip along x axis\n",
    "masks_resized = masks_resized[:,:,::-1]\n",
    "fig, axs = plt.subplots()\n",
    "plt.imshow(masks_resized.sum(0),cmap='gray')\n",
    "plt.show()"
   ]
  },
  {
   "cell_type": "code",
   "execution_count": 13,
   "metadata": {},
   "outputs": [
    {
     "name": "stderr",
     "output_type": "stream",
     "text": [
      "C:\\ProgramData\\Anaconda3\\lib\\site-packages\\skimage\\io\\_io.py:132: UserWarning: C:/Users/AhrensLab/Documents/GitHub/BehaveAndScanOP/StimAndSwim/background_images/pattern_0000.png is a low contrast image\n",
      "  warn('%s is a low contrast image' % fname)\n",
      "C:\\ProgramData\\Anaconda3\\lib\\site-packages\\skimage\\util\\dtype.py:122: UserWarning: Possible precision loss when converting from float64 to uint16\n",
      "  .format(dtypeobj_in, dtypeobj_out))\n",
      "C:\\ProgramData\\Anaconda3\\lib\\site-packages\\skimage\\io\\_io.py:132: UserWarning: C:/Users/AhrensLab/Documents/GitHub/BehaveAndScanOP/StimAndSwim/background_images/pattern_0001.png is a low contrast image\n",
      "  warn('%s is a low contrast image' % fname)\n",
      "C:\\ProgramData\\Anaconda3\\lib\\site-packages\\skimage\\io\\_io.py:132: UserWarning: C:/Users/AhrensLab/Documents/GitHub/BehaveAndScanOP/StimAndSwim/background_images/pattern_0002.png is a low contrast image\n",
      "  warn('%s is a low contrast image' % fname)\n",
      "C:\\ProgramData\\Anaconda3\\lib\\site-packages\\skimage\\io\\_io.py:132: UserWarning: C:/Users/AhrensLab/Documents/GitHub/BehaveAndScanOP/StimAndSwim/background_images/pattern_0003.png is a low contrast image\n",
      "  warn('%s is a low contrast image' % fname)\n"
     ]
    }
   ],
   "source": [
    "from skimage.io import imsave\n",
    "out_path = 'C:/Users/AhrensLab/Documents/GitHub/BehaveAndScanOP/StimAndSwim/background_images/'\n",
    "for ind, m in enumerate(masks_resized):\n",
    "    imsave(out_path + 'pattern_{:04d}.png'.format(ind), m)"
   ]
  },
  {
   "cell_type": "markdown",
   "metadata": {},
   "source": [
    "# Compare projected patterns with programmed patterns"
   ]
  },
  {
   "cell_type": "code",
   "execution_count": null,
   "metadata": {
    "collapsed": true
   },
   "outputs": [],
   "source": [
    "# Load images of dmd-rendered ROI from disk\n",
    "from glob import glob\n",
    "rois_fl = np.array([imread(f) for f in glob('Z:/davis/data/dmd_calibration/20170527/roi*.png')])\n",
    "masks_full = np.zeros([masks.shape[0], *calibration_image.shape])\n",
    "masks_full[:, dmd_rect[1]:dmd_rect[3],dmd_rect[0]:dmd_rect[2]] = masks"
   ]
  },
  {
   "cell_type": "code",
   "execution_count": null,
   "metadata": {},
   "outputs": [],
   "source": [
    "from skimage.exposure import rescale_intensity\n",
    "img0 = np.zeros(shape=(masks_full.shape[1:]) + (3,), dtype=np.uint8)\n",
    "rescaled_masks = rescale_intensity(masks_full.sum(0), out_range=(0,255))\n",
    "rescaled_rois_fl = rescale_intensity(rois_fl.sum(0) ** .5, out_range=(0,255))\n",
    "img0[:,:,0] = rescaled_masks // 4\n",
    "img0[:,:,1] = (rescaled_rois_fl + rescaled_masks // 4).clip(0,255)\n",
    "img0[:,:,2] = rescaled_masks // 4\n",
    "\n",
    "fig, axs = plt.subplots(nrows=1,ncols=3, figsize=(18,6))\n",
    "from scipy.stats import zscore\n",
    "\n",
    "axs[0].imshow(masks_full.sum(0), cmap='gray')\n",
    "axs[0].title.set_text('Programmed patterns')\n",
    "\n",
    "axs[1].imshow(rois_fl.sum(0) ** .5, cmap='gray')\n",
    "axs[1].title.set_text('Observed patterns')\n",
    "axs[1].axis('off')\n",
    "#axs[2].imshow(zscore(masks_full.sum(0), axis=None) - zscore(rois_fl.sum(0), axis=None), cmap='gray')\n",
    "axs[2].imshow(img0)\n",
    "axs[2].set_title('Programmed + Observed')\n",
    "axs[2].axis('off')\n",
    "plt.show()"
   ]
  },
  {
   "cell_type": "code",
   "execution_count": null,
   "metadata": {
    "collapsed": true
   },
   "outputs": [],
   "source": []
  }
 ],
 "metadata": {
  "kernelspec": {
   "display_name": "Python 3",
   "language": "python",
   "name": "python3"
  },
  "language_info": {
   "codemirror_mode": {
    "name": "ipython",
    "version": 3
   },
   "file_extension": ".py",
   "mimetype": "text/x-python",
   "name": "python",
   "nbconvert_exporter": "python",
   "pygments_lexer": "ipython3",
   "version": "3.5.3"
  }
 },
 "nbformat": 4,
 "nbformat_minor": 2
}
