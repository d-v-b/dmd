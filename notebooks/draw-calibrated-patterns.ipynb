{
 "cells": [
  {
   "cell_type": "code",
   "execution_count": 1,
   "metadata": {
    "collapsed": true
   },
   "outputs": [],
   "source": [
    "import matplotlib\n",
    "matplotlib.use('Qt5Agg')\n",
    "from matplotlib import pyplot as plt\n",
    "from matplotlib.widgets import Button\n",
    "import numpy as np\n",
    "from skimage.io import imread, imsave\n",
    "import json\n",
    "import sys\n",
    "sys.path.append(r'C:\\Users\\AhrensLab\\Documents\\GitHub\\dmd')\n",
    "from dmd.gui import DraggableRectangle, RoiDrawing\n",
    "plt.ion()"
   ]
  },
  {
   "cell_type": "code",
   "execution_count": 3,
   "metadata": {
    "collapsed": true
   },
   "outputs": [],
   "source": [
    "calibration_data_fname = r'C:\\Users\\Ahrenslab\\Documents\\Github\\dmd\\dmd_calibration.json'\n",
    "calibration_image_fname = r'Z:/davis/data/dmd_calibration/20170810/checkerboard_0.png'\n",
    "calibration_image = imread(calibration_image_fname)"
   ]
  },
  {
   "cell_type": "markdown",
   "metadata": {},
   "source": [
    "## Load calibration image from file and estimate position of DMD pattern \n",
    "# todo: automate this"
   ]
  },
  {
   "cell_type": "code",
   "execution_count": 6,
   "metadata": {
    "collapsed": true,
    "scrolled": false
   },
   "outputs": [],
   "source": [
    "from matplotlib.patches import Rectangle\n",
    "fig, axs = plt.subplots(figsize=(8,8))\n",
    "from skimage.exposure import adjust_gamma\n",
    "axs.imshow(adjust_gamma(calibration_image,.1), origin='lower')\n",
    "\n",
    "# Empirically, this is a pretty good guess, in case we can't load the calibration data file\n",
    "# x_guess, y_guess, w_guess, h_guess = 230, 588, 1600, 874\n",
    "\n",
    "with open(calibration_data_fname, 'r') as infile:\n",
    "    calibration_data = json.load(infile)\n",
    "\n",
    "x_guess, y_guess, w_guess, h_guess = calibration_data['dmd_rect']\n",
    "\n",
    "# dmd_rect stores the coordinates of the corners of the rectangle instead of corner_x, corner_y, w, h\n",
    "w_guess -= x_guess\n",
    "h_guess -= y_guess\n",
    "\n",
    "rect = Rectangle((x_guess,y_guess), w_guess, h_guess, fill=False)\n",
    "axs.add_patch(rect)\n",
    "dr = DraggableRectangle(rect)\n",
    "dr.connect()\n",
    "plt.show()"
   ]
  },
  {
   "cell_type": "code",
   "execution_count": 7,
   "metadata": {
    "collapsed": true
   },
   "outputs": [],
   "source": [
    "## TODO:Add a crosshair down the middle of the alignment rectangle"
   ]
  },
  {
   "cell_type": "code",
   "execution_count": 7,
   "metadata": {},
   "outputs": [
    {
     "name": "stdout",
     "output_type": "stream",
     "text": [
      "218.0 586.666015689 1631.0 891.0\n"
     ]
    }
   ],
   "source": [
    "x, y, w, h = dr.rect.get_x(), dr.rect.get_y(), dr.rect.get_width(), dr.rect.get_height()\n",
    "dmd_rect = [int(x), int(y), int(x + w), int(h + y)]\n",
    "calibration_data = {'dmd_rect' : dmd_rect}\n",
    "with open(calibration_data_fname, 'w') as outfile:\n",
    "    json.dump(calibration_data, outfile)\n",
    "\n",
    "print(x,y,w,h)"
   ]
  },
  {
   "cell_type": "markdown",
   "metadata": {},
   "source": [
    "## Load target image from file and draw ROI"
   ]
  },
  {
   "cell_type": "code",
   "execution_count": 9,
   "metadata": {
    "collapsed": true
   },
   "outputs": [],
   "source": [
    "sample_image_fname = r'Z:/davis/data/dmd_calibration/20170802/fish_1.png'\n",
    "# todo: correctly infer the true position of the camera roi on the chip \n",
    "sample_image = imread(sample_image_fname)\n",
    "full_cam = np.zeros((2048,2048))\n",
    "corner = (1024 // 2, 0) \n",
    "#full_cam[corner[0]:corner[0] + sample_image.shape[0], corner[1] : corner[1] + sample_image.shape[1]] = sample_image\n",
    "#sample_image = full_cam\n",
    "data = sample_image[dmd_rect[1]:dmd_rect[3],dmd_rect[0]:dmd_rect[2]]\n",
    "\n",
    "fig = plt.figure()\n",
    "ax = plt.axes([.05, .05, .6, .6])\n",
    "ax.set_title('Draw ROI')\n",
    "ax.imshow(data, cmap='viridis')\n",
    "#\n",
    "roi_draw = RoiDrawing(ax, data)\n",
    "\n",
    "ax_butt = plt.axes([0.7, 0.05, 0.1, 0.075])\n",
    "wipe_butt = Button(ax_butt, 'Wipe')\n",
    "wipe_butt.on_clicked(roi_draw.wipe)\n",
    "\n",
    "ax_decr = plt.axes([.7, .15, .1, .075])\n",
    "decr_button = Button(ax_decr, 'Prev ROI')\n",
    "decr_button.on_clicked(roi_draw.focus_decr)\n",
    "\n",
    "ax_incr = plt.axes([.7, .25, .1, .075])\n",
    "incr_button = Button(ax_incr, 'Next ROI')\n",
    "incr_button.on_clicked(roi_draw.focus_incr)\n",
    "plt.show()"
   ]
  },
  {
   "cell_type": "code",
   "execution_count": 14,
   "metadata": {
    "collapsed": true
   },
   "outputs": [],
   "source": [
    "fig, axs = plt.subplots()\n",
    "masks = np.array([r.get_mask() for r in roi_draw.rois if len(r.x) > 0])\n",
    "plt.imshow(masks.sum(0), cmap='gray')\n",
    "plt.show()"
   ]
  },
  {
   "cell_type": "code",
   "execution_count": 15,
   "metadata": {
    "collapsed": true
   },
   "outputs": [],
   "source": [
    "# Apply transformations to ROI images and save to disk\n",
    "from skimage.transform import resize\n",
    "dmd_dims = (684,608)\n",
    "masks_resized = np.array([resize(m, output_shape = dmd_dims, mode='constant', cval=0) for m in masks])\n",
    "# need to flip along x axis\n",
    "masks_resized = masks_resized[:,:,::-1]\n",
    "fig, axs = plt.subplots()\n",
    "plt.imshow(masks_resized.sum(0),cmap='gray')\n",
    "plt.show()"
   ]
  },
  {
   "cell_type": "markdown",
   "metadata": {},
   "source": [
    "## Set output directory for ROI"
   ]
  },
  {
   "cell_type": "code",
   "execution_count": 16,
   "metadata": {
    "collapsed": true
   },
   "outputs": [],
   "source": [
    "out_path = r'C:/davis/20170802/20170802_7dpf_cy252xcy293_f1_opto_1/'"
   ]
  },
  {
   "cell_type": "markdown",
   "metadata": {},
   "source": [
    "# Warning: this overwrites any existing ROI!!"
   ]
  },
  {
   "cell_type": "code",
   "execution_count": 17,
   "metadata": {},
   "outputs": [
    {
     "name": "stderr",
     "output_type": "stream",
     "text": [
      "C:\\ProgramData\\Anaconda3\\lib\\site-packages\\skimage\\util\\dtype.py:122: UserWarning: Possible precision loss when converting from float64 to uint16\n",
      "  .format(dtypeobj_in, dtypeobj_out))\n"
     ]
    }
   ],
   "source": [
    "for ind, m in enumerate(masks_resized):\n",
    "    imsave(out_path + 'pattern_{:04d}.png'.format(ind), m)"
   ]
  },
  {
   "cell_type": "code",
   "execution_count": null,
   "metadata": {
    "collapsed": true
   },
   "outputs": [],
   "source": []
  }
 ],
 "metadata": {
  "kernelspec": {
   "display_name": "Python 3",
   "language": "python",
   "name": "python3"
  },
  "language_info": {
   "codemirror_mode": {
    "name": "ipython",
    "version": 3
   },
   "file_extension": ".py",
   "mimetype": "text/x-python",
   "name": "python",
   "nbconvert_exporter": "python",
   "pygments_lexer": "ipython3",
   "version": "3.5.3"
  }
 },
 "nbformat": 4,
 "nbformat_minor": 2
}
